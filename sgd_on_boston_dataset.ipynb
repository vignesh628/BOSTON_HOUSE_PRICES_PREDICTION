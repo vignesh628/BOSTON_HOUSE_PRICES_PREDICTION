{
  "nbformat": 4,
  "nbformat_minor": 0,
  "metadata": {
    "colab": {
      "name": "Implement_SGD_FINAL.ipynb",
      "version": "0.3.2",
      "provenance": []
    },
    "kernelspec": {
      "name": "python3",
      "display_name": "Python 3"
    }
  },
  "cells": [
    {
      "metadata": {
        "id": "SNWzIHzv2ppL",
        "colab_type": "text"
      },
      "cell_type": "markdown",
      "source": [
        "## IMPLEMENTING SGD FROM SCATCH AND COMPARING IT WITH SGD REGRESSOR"
      ]
    },
    {
      "metadata": {
        "id": "REYPoTJ1Af7u",
        "colab_type": "code",
        "colab": {}
      },
      "cell_type": "code",
      "source": [
        "import warnings\n",
        "warnings.filterwarnings(\"ignore\")\n",
        "from sklearn.datasets import load_boston\n",
        "from random import seed\n",
        "from random import randrange\n",
        "from csv import reader\n",
        "from math import sqrt\n",
        "from sklearn import preprocessing\n",
        "import pandas as pd\n",
        "import numpy as np\n",
        "import matplotlib.pyplot as plt\n",
        "from sklearn.linear_model import SGDRegressor\n",
        "from sklearn import preprocessing\n",
        "from sklearn.metrics import mean_squared_error"
      ],
      "execution_count": 0,
      "outputs": []
    },
    {
      "metadata": {
        "id": "5-PxSZMG3HGw",
        "colab_type": "text"
      },
      "cell_type": "markdown",
      "source": [
        "##LOADING THE BOSTON DATASET WHICH IS READILY AVAIABLE IN GOOGLE COLAB ADN IMPLEMENTING MODEL ON TOP OF IT"
      ]
    },
    {
      "metadata": {
        "id": "NTQ2iH-kAwbo",
        "colab_type": "code",
        "colab": {}
      },
      "cell_type": "code",
      "source": [
        "X = load_boston().data\n",
        "Y = load_boston().target"
      ],
      "execution_count": 0,
      "outputs": []
    },
    {
      "metadata": {
        "id": "NbPyR4kztfUH",
        "colab_type": "code",
        "colab": {}
      },
      "cell_type": "code",
      "source": [
        "from sklearn.datasets import load_boston\n",
        "boston = load_boston()"
      ],
      "execution_count": 0,
      "outputs": []
    },
    {
      "metadata": {
        "id": "J6qlB3C6tg_p",
        "colab_type": "code",
        "colab": {
          "base_uri": "https://localhost:8080/",
          "height": 51
        },
        "outputId": "3a7bcb87-9c28-40c1-f1a5-6ce523b23c8e"
      },
      "cell_type": "code",
      "source": [
        "print(boston.feature_names)"
      ],
      "execution_count": 54,
      "outputs": [
        {
          "output_type": "stream",
          "text": [
            "['CRIM' 'ZN' 'INDUS' 'CHAS' 'NOX' 'RM' 'AGE' 'DIS' 'RAD' 'TAX' 'PTRATIO'\n",
            " 'B' 'LSTAT']\n"
          ],
          "name": "stdout"
        }
      ]
    },
    {
      "metadata": {
        "id": "_YbuFfVT3Udp",
        "colab_type": "text"
      },
      "cell_type": "markdown",
      "source": [
        "## USING STANDARD SCALER STANDARDISING THE DATA OF THE X"
      ]
    },
    {
      "metadata": {
        "id": "FgUW39s6Be0U",
        "colab_type": "code",
        "colab": {}
      },
      "cell_type": "code",
      "source": [
        "scaler = preprocessing.StandardScaler().fit(X)\n",
        "X = scaler.transform(X)"
      ],
      "execution_count": 0,
      "outputs": []
    },
    {
      "metadata": {
        "id": "HNu1sXtEBBS2",
        "colab_type": "code",
        "outputId": "249adbdb-a527-4fbd-94a8-ec5f3c98e8b3",
        "colab": {
          "base_uri": "https://localhost:8080/",
          "height": 34
        }
      },
      "cell_type": "code",
      "source": [
        "clf = SGDRegressor(n_iter=1000)\n",
        "clf.fit(X, Y)\n",
        "print(mean_squared_error(Y, clf.predict(X)))"
      ],
      "execution_count": 4,
      "outputs": [
        {
          "output_type": "stream",
          "text": [
            "23.059860379742734\n"
          ],
          "name": "stdout"
        }
      ]
    },
    {
      "metadata": {
        "id": "llxLZ9aC9JIC",
        "colab_type": "code",
        "colab": {
          "base_uri": "https://localhost:8080/",
          "height": 119
        },
        "outputId": "9b06865e-7257-496a-961c-8067514e6c6d"
      },
      "cell_type": "code",
      "source": [
        "clf"
      ],
      "execution_count": 40,
      "outputs": [
        {
          "output_type": "execute_result",
          "data": {
            "text/plain": [
              "SGDRegressor(alpha=0.0001, average=False, early_stopping=False, epsilon=0.1,\n",
              "       eta0=0.01, fit_intercept=True, l1_ratio=0.15,\n",
              "       learning_rate='invscaling', loss='squared_loss', max_iter=None,\n",
              "       n_iter=None, n_iter_no_change=5, penalty='l2', power_t=0.25,\n",
              "       random_state=None, shuffle=True, tol=None, validation_fraction=0.1,\n",
              "       verbose=0, warm_start=False)"
            ]
          },
          "metadata": {
            "tags": []
          },
          "execution_count": 40
        }
      ]
    },
    {
      "metadata": {
        "id": "u2UarZ2X3A9r",
        "colab_type": "code",
        "colab": {}
      },
      "cell_type": "code",
      "source": [
        "boston = load_boston()\n",
        "bos = pd.DataFrame(boston.data)"
      ],
      "execution_count": 0,
      "outputs": []
    },
    {
      "metadata": {
        "id": "J_vBsf983N4O",
        "colab_type": "code",
        "colab": {}
      },
      "cell_type": "code",
      "source": [
        "bos['PRICE'] = boston.target\n",
        "X = bos.drop('PRICE', axis = 1)\n",
        "Y = bos['PRICE']"
      ],
      "execution_count": 0,
      "outputs": []
    },
    {
      "metadata": {
        "id": "L3s-9H1E3i6t",
        "colab_type": "code",
        "outputId": "34401904-0bd0-40e7-d1ab-a2f08d7ab725",
        "colab": {
          "base_uri": "https://localhost:8080/",
          "height": 197
        }
      },
      "cell_type": "code",
      "source": [
        "X.head(5)"
      ],
      "execution_count": 7,
      "outputs": [
        {
          "output_type": "execute_result",
          "data": {
            "text/html": [
              "<div>\n",
              "<style scoped>\n",
              "    .dataframe tbody tr th:only-of-type {\n",
              "        vertical-align: middle;\n",
              "    }\n",
              "\n",
              "    .dataframe tbody tr th {\n",
              "        vertical-align: top;\n",
              "    }\n",
              "\n",
              "    .dataframe thead th {\n",
              "        text-align: right;\n",
              "    }\n",
              "</style>\n",
              "<table border=\"1\" class=\"dataframe\">\n",
              "  <thead>\n",
              "    <tr style=\"text-align: right;\">\n",
              "      <th></th>\n",
              "      <th>0</th>\n",
              "      <th>1</th>\n",
              "      <th>2</th>\n",
              "      <th>3</th>\n",
              "      <th>4</th>\n",
              "      <th>5</th>\n",
              "      <th>6</th>\n",
              "      <th>7</th>\n",
              "      <th>8</th>\n",
              "      <th>9</th>\n",
              "      <th>10</th>\n",
              "      <th>11</th>\n",
              "      <th>12</th>\n",
              "    </tr>\n",
              "  </thead>\n",
              "  <tbody>\n",
              "    <tr>\n",
              "      <th>0</th>\n",
              "      <td>0.00632</td>\n",
              "      <td>18.0</td>\n",
              "      <td>2.31</td>\n",
              "      <td>0.0</td>\n",
              "      <td>0.538</td>\n",
              "      <td>6.575</td>\n",
              "      <td>65.2</td>\n",
              "      <td>4.0900</td>\n",
              "      <td>1.0</td>\n",
              "      <td>296.0</td>\n",
              "      <td>15.3</td>\n",
              "      <td>396.90</td>\n",
              "      <td>4.98</td>\n",
              "    </tr>\n",
              "    <tr>\n",
              "      <th>1</th>\n",
              "      <td>0.02731</td>\n",
              "      <td>0.0</td>\n",
              "      <td>7.07</td>\n",
              "      <td>0.0</td>\n",
              "      <td>0.469</td>\n",
              "      <td>6.421</td>\n",
              "      <td>78.9</td>\n",
              "      <td>4.9671</td>\n",
              "      <td>2.0</td>\n",
              "      <td>242.0</td>\n",
              "      <td>17.8</td>\n",
              "      <td>396.90</td>\n",
              "      <td>9.14</td>\n",
              "    </tr>\n",
              "    <tr>\n",
              "      <th>2</th>\n",
              "      <td>0.02729</td>\n",
              "      <td>0.0</td>\n",
              "      <td>7.07</td>\n",
              "      <td>0.0</td>\n",
              "      <td>0.469</td>\n",
              "      <td>7.185</td>\n",
              "      <td>61.1</td>\n",
              "      <td>4.9671</td>\n",
              "      <td>2.0</td>\n",
              "      <td>242.0</td>\n",
              "      <td>17.8</td>\n",
              "      <td>392.83</td>\n",
              "      <td>4.03</td>\n",
              "    </tr>\n",
              "    <tr>\n",
              "      <th>3</th>\n",
              "      <td>0.03237</td>\n",
              "      <td>0.0</td>\n",
              "      <td>2.18</td>\n",
              "      <td>0.0</td>\n",
              "      <td>0.458</td>\n",
              "      <td>6.998</td>\n",
              "      <td>45.8</td>\n",
              "      <td>6.0622</td>\n",
              "      <td>3.0</td>\n",
              "      <td>222.0</td>\n",
              "      <td>18.7</td>\n",
              "      <td>394.63</td>\n",
              "      <td>2.94</td>\n",
              "    </tr>\n",
              "    <tr>\n",
              "      <th>4</th>\n",
              "      <td>0.06905</td>\n",
              "      <td>0.0</td>\n",
              "      <td>2.18</td>\n",
              "      <td>0.0</td>\n",
              "      <td>0.458</td>\n",
              "      <td>7.147</td>\n",
              "      <td>54.2</td>\n",
              "      <td>6.0622</td>\n",
              "      <td>3.0</td>\n",
              "      <td>222.0</td>\n",
              "      <td>18.7</td>\n",
              "      <td>396.90</td>\n",
              "      <td>5.33</td>\n",
              "    </tr>\n",
              "  </tbody>\n",
              "</table>\n",
              "</div>"
            ],
            "text/plain": [
              "        0     1     2    3      4      5     6       7    8      9     10  \\\n",
              "0  0.00632  18.0  2.31  0.0  0.538  6.575  65.2  4.0900  1.0  296.0  15.3   \n",
              "1  0.02731   0.0  7.07  0.0  0.469  6.421  78.9  4.9671  2.0  242.0  17.8   \n",
              "2  0.02729   0.0  7.07  0.0  0.469  7.185  61.1  4.9671  2.0  242.0  17.8   \n",
              "3  0.03237   0.0  2.18  0.0  0.458  6.998  45.8  6.0622  3.0  222.0  18.7   \n",
              "4  0.06905   0.0  2.18  0.0  0.458  7.147  54.2  6.0622  3.0  222.0  18.7   \n",
              "\n",
              "       11    12  \n",
              "0  396.90  4.98  \n",
              "1  396.90  9.14  \n",
              "2  392.83  4.03  \n",
              "3  394.63  2.94  \n",
              "4  396.90  5.33  "
            ]
          },
          "metadata": {
            "tags": []
          },
          "execution_count": 7
        }
      ]
    },
    {
      "metadata": {
        "id": "CJXeaH4Z3tNI",
        "colab_type": "code",
        "outputId": "27f8a5ce-a823-4cae-b93e-a2834937ce32",
        "colab": {
          "base_uri": "https://localhost:8080/",
          "height": 119
        }
      },
      "cell_type": "code",
      "source": [
        "Y.head(5)"
      ],
      "execution_count": 8,
      "outputs": [
        {
          "output_type": "execute_result",
          "data": {
            "text/plain": [
              "0    24.0\n",
              "1    21.6\n",
              "2    34.7\n",
              "3    33.4\n",
              "4    36.2\n",
              "Name: PRICE, dtype: float64"
            ]
          },
          "metadata": {
            "tags": []
          },
          "execution_count": 8
        }
      ]
    },
    {
      "metadata": {
        "id": "3LyekJ-j3ylH",
        "colab_type": "text"
      },
      "cell_type": "markdown",
      "source": [
        "## SPLITTING THE DATA INTO TRAIN AND TEST BEFORE DEPLOYING INTO THE MODELS "
      ]
    },
    {
      "metadata": {
        "id": "kfNECaKJ3Qbz",
        "colab_type": "code",
        "colab": {}
      },
      "cell_type": "code",
      "source": [
        "from sklearn.model_selection import train_test_split\n",
        "xtrain ,xtest ,ytrain ,ytest = train_test_split(X ,Y ,random_state = 0, test_size = 0.3)"
      ],
      "execution_count": 0,
      "outputs": []
    },
    {
      "metadata": {
        "id": "uqrh1QzU3SMD",
        "colab_type": "code",
        "colab": {}
      },
      "cell_type": "code",
      "source": [
        "from sklearn.preprocessing import StandardScaler\n",
        "sc = StandardScaler()\n",
        "xtrain = sc.fit_transform(xtrain)\n",
        "xtest = sc.transform(xtest)"
      ],
      "execution_count": 0,
      "outputs": []
    },
    {
      "metadata": {
        "id": "KcodbzpP4AxO",
        "colab_type": "text"
      },
      "cell_type": "markdown",
      "source": [
        "## WRITING THE FUNCTION TO IMPLEMENT THE SGD REGRESSOR"
      ]
    },
    {
      "metadata": {
        "id": "U0-8SDKs2fsL",
        "colab_type": "code",
        "colab": {}
      },
      "cell_type": "code",
      "source": [
        "def sgd(X, y, niter ,r):\n",
        "    b = 0\n",
        "    n = len(X)\n",
        "    w = np.random.normal(loc = 0.0 ,scale =1.0 ,size = (X.shape[1],))\n",
        "    for i in range(niter):\n",
        "        totalerror = []\n",
        "        for j in range(len(X)):\n",
        "            y_p = np.array(X[j]).dot(w) + b\n",
        "            error = y.iloc[j] - y_p\n",
        "            totalerror.append(error)\n",
        "            \n",
        "        w = w - r*((-2/n)*X.T.dot(totalerror))\n",
        "        b = b - r*((-2/n)*np.sum(totalerror))\n",
        "    return w ,b"
      ],
      "execution_count": 0,
      "outputs": []
    },
    {
      "metadata": {
        "id": "plxKJgCs2nhJ",
        "colab_type": "code",
        "colab": {}
      },
      "cell_type": "code",
      "source": [
        "opt_w , opt_b = sgd(xtrain,ytrain,10000,0.001)"
      ],
      "execution_count": 0,
      "outputs": []
    },
    {
      "metadata": {
        "id": "0mhJspae6SOo",
        "colab_type": "code",
        "colab": {}
      },
      "cell_type": "code",
      "source": [
        ""
      ],
      "execution_count": 0,
      "outputs": []
    },
    {
      "metadata": {
        "id": "pF6sdJ2h2pzB",
        "colab_type": "code",
        "outputId": "28ade221-0cce-432f-da38-ce3976b02111",
        "colab": {
          "base_uri": "https://localhost:8080/",
          "height": 85
        }
      },
      "cell_type": "code",
      "source": [
        "print(\"The Optimal Coefficient is\",opt_w)\n",
        "print(\"The Optimal Intercept is\",opt_b)"
      ],
      "execution_count": 13,
      "outputs": [
        {
          "output_type": "stream",
          "text": [
            "The Optimal Coefficient is [-0.94864569  0.9247058  -0.21189765  0.66386768 -1.72170669  2.79213908\n",
            " -0.34721065 -3.0201566   1.31932692 -1.03947224 -2.22796961  0.57434953\n",
            " -3.40129503]\n",
            "The Optimal Intercept is 22.745480180036335\n"
          ],
          "name": "stdout"
        }
      ]
    },
    {
      "metadata": {
        "id": "MYEJrmgY4brY",
        "colab_type": "text"
      },
      "cell_type": "markdown",
      "source": [
        "## OBTAINED THE COEFFICIENTS AND INTERCEPTS FOR THE SGD."
      ]
    },
    {
      "metadata": {
        "id": "U0vK_JnB3tSX",
        "colab_type": "code",
        "outputId": "c1c44251-3447-43a8-b626-cf09e0be0b82",
        "colab": {
          "base_uri": "https://localhost:8080/",
          "height": 51
        }
      },
      "cell_type": "code",
      "source": [
        "predictedy = xtest.dot(opt_w) + opt_b\n",
        "err = ytest - predictedy\n",
        "MSEofsgd = (np.sum(err**2)/xtest.shape[0])\n",
        "RMSEofsgd = np.sqrt(MSEofsgd)\n",
        "print(\"MSE is\",MSEofsgd)\n",
        "print(\"RMSE is\",RMSEofsgd)"
      ],
      "execution_count": 14,
      "outputs": [
        {
          "output_type": "stream",
          "text": [
            "MSE is 27.642520276585294\n",
            "RMSE is 5.257615455373785\n"
          ],
          "name": "stdout"
        }
      ]
    },
    {
      "metadata": {
        "id": "Lw_VOTn84k5Q",
        "colab_type": "text"
      },
      "cell_type": "markdown",
      "source": [
        "##USING THE SCIKIT LEARN MODEL FOR IMPLEMENTATION"
      ]
    },
    {
      "metadata": {
        "id": "LreK5StQ3xNZ",
        "colab_type": "code",
        "outputId": "fa00b58f-05ea-46f7-a823-14ddc5744f62",
        "colab": {
          "base_uri": "https://localhost:8080/",
          "height": 85
        }
      },
      "cell_type": "code",
      "source": [
        "import warnings\n",
        "warnings.filterwarnings('ignore')\n",
        "from sklearn.linear_model import SGDRegressor\n",
        "sgd= SGDRegressor(n_iter=1000,alpha=0.01)\n",
        "sgd.fit(xtrain,ytrain)\n",
        "coef_ = sgd.coef_\n",
        "print(\"The Coefficient is\",coef_)\n",
        "intercept = sgd.intercept_\n",
        "print(\"The Intercept is\",intercept)"
      ],
      "execution_count": 42,
      "outputs": [
        {
          "output_type": "stream",
          "text": [
            "The Coefficient is [-0.97430289  0.98916735 -0.01229955  0.64232458 -1.74674731  2.73364115\n",
            " -0.29462013 -2.96792251  1.82947848 -1.63062996 -2.22788556  0.58173399\n",
            " -3.38414018]\n",
            "The Intercept is [22.74676436]\n"
          ],
          "name": "stdout"
        }
      ]
    },
    {
      "metadata": {
        "id": "nHGXDm8Y9hSM",
        "colab_type": "code",
        "colab": {
          "base_uri": "https://localhost:8080/",
          "height": 119
        },
        "outputId": "91ffd9e9-d6ba-46d6-851f-0cabf50879db"
      },
      "cell_type": "code",
      "source": [
        "sgd"
      ],
      "execution_count": 43,
      "outputs": [
        {
          "output_type": "execute_result",
          "data": {
            "text/plain": [
              "SGDRegressor(alpha=0.01, average=False, early_stopping=False, epsilon=0.1,\n",
              "       eta0=0.01, fit_intercept=True, l1_ratio=0.15,\n",
              "       learning_rate='invscaling', loss='squared_loss', max_iter=None,\n",
              "       n_iter=1000, n_iter_no_change=5, penalty='l2', power_t=0.25,\n",
              "       random_state=None, shuffle=True, tol=None, validation_fraction=0.1,\n",
              "       verbose=0, warm_start=False)"
            ]
          },
          "metadata": {
            "tags": []
          },
          "execution_count": 43
        }
      ]
    },
    {
      "metadata": {
        "id": "5ULQLog_4Dl1",
        "colab_type": "code",
        "outputId": "5436778b-780c-4e7a-e10e-a990a37aed5a",
        "colab": {
          "base_uri": "https://localhost:8080/",
          "height": 51
        }
      },
      "cell_type": "code",
      "source": [
        "import numpy as np\n",
        "y_pred = sgd.predict(xtest)\n",
        "error = ytest - y_pred\n",
        "MSE = (np.sum(error**2)/xtest.shape[0])\n",
        "RMSE = np.sqrt(MSE)\n",
        "print(\"MSE is\",MSE)\n",
        "print(\"RMSE is\",RMSE)"
      ],
      "execution_count": 44,
      "outputs": [
        {
          "output_type": "stream",
          "text": [
            "MSE is 27.338102408275493\n",
            "RMSE is 5.228585124895213\n"
          ],
          "name": "stdout"
        }
      ]
    },
    {
      "metadata": {
        "id": "F9_wvwX45ALb",
        "colab_type": "text"
      },
      "cell_type": "markdown",
      "source": [
        "COMPARING THE WEIGHTS FROM THE SCIKIT LEARN MODEL AND WEIGHTS FROM SCRATCH"
      ]
    },
    {
      "metadata": {
        "id": "yBu-ueMM4GED",
        "colab_type": "code",
        "outputId": "15ec18e3-bdeb-4448-f908-0580683a36a1",
        "colab": {
          "base_uri": "https://localhost:8080/",
          "height": 268
        }
      },
      "cell_type": "code",
      "source": [
        "fig,ax=plt.subplots()\n",
        "ax.plot(sgd.coef_)\n",
        "ax.plot(opt_w)\n",
        "plt.show()"
      ],
      "execution_count": 45,
      "outputs": [
        {
          "output_type": "display_data",
          "data": {
            "image/png": "[encoded data removed]",
            "text/plain": [
              "<Figure size 432x288 with 1 Axes>"
            ]
          },
          "metadata": {
            "tags": []
          }
        }
      ]
    },
    {
      "metadata": {
        "id": "6i0L01_t7r5t",
        "colab_type": "code",
        "colab": {
          "base_uri": "https://localhost:8080/",
          "height": 34
        },
        "outputId": "9042ade5-498f-4d6a-fd8b-ba259d098a60"
      },
      "cell_type": "code",
      "source": [
        "print(xtrain.shape[1])"
      ],
      "execution_count": 32,
      "outputs": [
        {
          "output_type": "stream",
          "text": [
            "13\n"
          ],
          "name": "stdout"
        }
      ]
    },
    {
      "metadata": {
        "id": "yksiWSlC6sWi",
        "colab_type": "code",
        "colab": {
          "base_uri": "https://localhost:8080/",
          "height": 268
        },
        "outputId": "bb527cc7-9d66-430f-cef6-7a47da69cbad"
      },
      "cell_type": "code",
      "source": [
        "\n",
        "plt.scatter(sgd.coef_,range(0,13))\n",
        "plt.scatter(opt_w,range(0,13))\n",
        "plt.show()"
      ],
      "execution_count": 46,
      "outputs": [
        {
          "output_type": "display_data",
          "data": {
            "image/png": "[encoded data removed]",
            "text/plain": [
              "<Figure size 432x288 with 1 Axes>"
            ]
          },
          "metadata": {
            "tags": []
          }
        }
      ]
    },
    {
      "metadata": {
        "id": "oV6m8bSN4H7j",
        "colab_type": "code",
        "outputId": "7acd37fe-63a2-4cdd-c70e-77fdf076b243",
        "colab": {
          "base_uri": "https://localhost:8080/",
          "height": 107
        }
      },
      "cell_type": "code",
      "source": [
        "data = [[27.41,5.23], [27.3,5.22]]\n",
        "pd.DataFrame(data, columns=[\"MSE\", \"RMSE\"],index=['sgd from scratch','sgd sklearn'])"
      ],
      "execution_count": 48,
      "outputs": [
        {
          "output_type": "execute_result",
          "data": {
            "text/html": [
              "<div>\n",
              "<style scoped>\n",
              "    .dataframe tbody tr th:only-of-type {\n",
              "        vertical-align: middle;\n",
              "    }\n",
              "\n",
              "    .dataframe tbody tr th {\n",
              "        vertical-align: top;\n",
              "    }\n",
              "\n",
              "    .dataframe thead th {\n",
              "        text-align: right;\n",
              "    }\n",
              "</style>\n",
              "<table border=\"1\" class=\"dataframe\">\n",
              "  <thead>\n",
              "    <tr style=\"text-align: right;\">\n",
              "      <th></th>\n",
              "      <th>MSE</th>\n",
              "      <th>RMSE</th>\n",
              "    </tr>\n",
              "  </thead>\n",
              "  <tbody>\n",
              "    <tr>\n",
              "      <th>sgd from scratch</th>\n",
              "      <td>27.41</td>\n",
              "      <td>5.23</td>\n",
              "    </tr>\n",
              "    <tr>\n",
              "      <th>sgd sklearn</th>\n",
              "      <td>27.30</td>\n",
              "      <td>5.22</td>\n",
              "    </tr>\n",
              "  </tbody>\n",
              "</table>\n",
              "</div>"
            ],
            "text/plain": [
              "                    MSE  RMSE\n",
              "sgd from scratch  27.41  5.23\n",
              "sgd sklearn       27.30  5.22"
            ]
          },
          "metadata": {
            "tags": []
          },
          "execution_count": 48
        }
      ]
    },
    {
      "metadata": {
        "id": "a9T70Eap8jJo",
        "colab_type": "code",
        "colab": {
          "base_uri": "https://localhost:8080/",
          "height": 436
        },
        "outputId": "83d5af07-b901-4123-9df0-4fc82c64691d"
      },
      "cell_type": "code",
      "source": [
        "#comparing the weights\n",
        "ss=pd.DataFrame()\n",
        "ss['weights_of_sgdfromscratch']=sgd.coef_\n",
        "ss['sgd regressor weights']=opt_w\n",
        "ss"
      ],
      "execution_count": 47,
      "outputs": [
        {
          "output_type": "execute_result",
          "data": {
            "text/html": [
              "<div>\n",
              "<style scoped>\n",
              "    .dataframe tbody tr th:only-of-type {\n",
              "        vertical-align: middle;\n",
              "    }\n",
              "\n",
              "    .dataframe tbody tr th {\n",
              "        vertical-align: top;\n",
              "    }\n",
              "\n",
              "    .dataframe thead th {\n",
              "        text-align: right;\n",
              "    }\n",
              "</style>\n",
              "<table border=\"1\" class=\"dataframe\">\n",
              "  <thead>\n",
              "    <tr style=\"text-align: right;\">\n",
              "      <th></th>\n",
              "      <th>weights_of_sgdfromscratch</th>\n",
              "      <th>sgd regressor weights</th>\n",
              "    </tr>\n",
              "  </thead>\n",
              "  <tbody>\n",
              "    <tr>\n",
              "      <th>0</th>\n",
              "      <td>-0.974303</td>\n",
              "      <td>-0.948646</td>\n",
              "    </tr>\n",
              "    <tr>\n",
              "      <th>1</th>\n",
              "      <td>0.989167</td>\n",
              "      <td>0.924706</td>\n",
              "    </tr>\n",
              "    <tr>\n",
              "      <th>2</th>\n",
              "      <td>-0.012300</td>\n",
              "      <td>-0.211898</td>\n",
              "    </tr>\n",
              "    <tr>\n",
              "      <th>3</th>\n",
              "      <td>0.642325</td>\n",
              "      <td>0.663868</td>\n",
              "    </tr>\n",
              "    <tr>\n",
              "      <th>4</th>\n",
              "      <td>-1.746747</td>\n",
              "      <td>-1.721707</td>\n",
              "    </tr>\n",
              "    <tr>\n",
              "      <th>5</th>\n",
              "      <td>2.733641</td>\n",
              "      <td>2.792139</td>\n",
              "    </tr>\n",
              "    <tr>\n",
              "      <th>6</th>\n",
              "      <td>-0.294620</td>\n",
              "      <td>-0.347211</td>\n",
              "    </tr>\n",
              "    <tr>\n",
              "      <th>7</th>\n",
              "      <td>-2.967923</td>\n",
              "      <td>-3.020157</td>\n",
              "    </tr>\n",
              "    <tr>\n",
              "      <th>8</th>\n",
              "      <td>1.829478</td>\n",
              "      <td>1.319327</td>\n",
              "    </tr>\n",
              "    <tr>\n",
              "      <th>9</th>\n",
              "      <td>-1.630630</td>\n",
              "      <td>-1.039472</td>\n",
              "    </tr>\n",
              "    <tr>\n",
              "      <th>10</th>\n",
              "      <td>-2.227886</td>\n",
              "      <td>-2.227970</td>\n",
              "    </tr>\n",
              "    <tr>\n",
              "      <th>11</th>\n",
              "      <td>0.581734</td>\n",
              "      <td>0.574350</td>\n",
              "    </tr>\n",
              "    <tr>\n",
              "      <th>12</th>\n",
              "      <td>-3.384140</td>\n",
              "      <td>-3.401295</td>\n",
              "    </tr>\n",
              "  </tbody>\n",
              "</table>\n",
              "</div>"
            ],
            "text/plain": [
              "    weights_of_sgdfromscratch  sgd regressor weights\n",
              "0                   -0.974303              -0.948646\n",
              "1                    0.989167               0.924706\n",
              "2                   -0.012300              -0.211898\n",
              "3                    0.642325               0.663868\n",
              "4                   -1.746747              -1.721707\n",
              "5                    2.733641               2.792139\n",
              "6                   -0.294620              -0.347211\n",
              "7                   -2.967923              -3.020157\n",
              "8                    1.829478               1.319327\n",
              "9                   -1.630630              -1.039472\n",
              "10                  -2.227886              -2.227970\n",
              "11                   0.581734               0.574350\n",
              "12                  -3.384140              -3.401295"
            ]
          },
          "metadata": {
            "tags": []
          },
          "execution_count": 47
        }
      ]
    },
    {
      "metadata": {
        "id": "DjXyq8MB5Qnf",
        "colab_type": "text"
      },
      "cell_type": "markdown",
      "source": [
        "## DOCUMENTATION AND CONCLUSION\n",
        "###WE HAVE ONTAINED THE BOSTON DATA A TO PREDICT THE HOUSE PRICE. THE TWO MODELS WE USED ARE SGD FUNCTION WRITTEN FROM SCRATCH AND OTHER SGD REGRESSOR MODEL OF SCIKIT LEARN,.\n",
        "## WE OBTAINED THE WEGHTS AND COMAPARED THE WEIGHTS USING GRAPH AND VISUALISED IT. COMAPARED THE PERFORMANCE USING THE PANDAS DATAFRAME.\n",
        "## we plotted the weghts on the scattere plot and visualised the difference between them.\n",
        "## for comparsion of weights we also compared using the dataframe.\n",
        "##in boston data we are provided with features ['CRIM' 'ZN' 'INDUS' 'CHAS' 'NOX' 'RM' 'AGE' 'DIS' 'RAD' 'TAX' 'PTRATIO' 'B' 'LSTAT'] \n",
        " ## with these features we have the values to predict the house price , since the problem is regression we dont have the exact classs labels . we train a regression model on top of this using sgd regressor whisch is the stochastic gradient regressor with square loss and we measure the performance using the rmse metric. lower the rmse value higher the performance of the model. we predict the house price"
      ]
    },
    {
      "metadata": {
        "id": "QGU-8RrJuC1v",
        "colab_type": "code",
        "colab": {}
      },
      "cell_type": "code",
      "source": [
        ""
      ],
      "execution_count": 0,
      "outputs": []
    }
  ]
}